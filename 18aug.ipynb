{
 "cells": [
  {
   "cell_type": "code",
   "execution_count": 1,
   "metadata": {},
   "outputs": [
    {
     "name": "stdout",
     "output_type": "stream",
     "text": [
      "['this', 'is', 'my', 'space']\n",
      "This Is My Space\n",
      "16\n",
      "this is my space\n",
      "16\n",
      "THIS IS MY SPACE\n"
     ]
    }
   ],
   "source": [
    "s = 'this is my space'\n",
    "w  = s.split()\n",
    "print(w)\n",
    "sen = ''\n",
    "for word in w:\n",
    "    sen = sen + word.capitalize() + ' '\n",
    "sen = sen.strip()\n",
    "print(sen)\n",
    "print(len(sen))\n",
    "print(s)\n",
    "print(len(s))\n",
    "sen1 = ''\n",
    "for i in range(0,len(w),2):\n",
    "    sen1 = sen1+w[i].upper()+' '\n",
    "    sen1 = sen1+w[i+1].upper()+' '\n",
    "sen1 = sen1.strip()\n",
    "print(sen1)\n"
   ]
  }
 ],
 "metadata": {
  "kernelspec": {
   "display_name": "Python 3",
   "language": "python",
   "name": "python3"
  },
  "language_info": {
   "codemirror_mode": {
    "name": "ipython",
    "version": 3
   },
   "file_extension": ".py",
   "mimetype": "text/x-python",
   "name": "python",
   "nbconvert_exporter": "python",
   "pygments_lexer": "ipython3",
   "version": "3.11.4"
  },
  "orig_nbformat": 4
 },
 "nbformat": 4,
 "nbformat_minor": 2
}
